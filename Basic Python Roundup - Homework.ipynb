{
 "cells": [
  {
   "cell_type": "markdown",
   "metadata": {},
   "source": [
    "## Problem 1\n",
    "Using the code from the Basic Python Roundup lecture notebook, create three functions:\n",
    "\n",
    "1. `scrape_book_results_page(page_num, headers)`: This function takes a page number and a headers dictionary as arguments and returns a dictionary with the following keys:\n",
    "    - `page_url`: The URL of the books results page\n",
    "    - `response`: The Response object of that page\n",
    "    - `soup`: The BeautifulSoup object created from the source code\n",
    "    - `book_urls`: A list of the URLs for each book on this page\n",
    "\n",
    "\n",
    "2. `scrape_book_product_page(book_product_url, headers)`: This function takes a book product URL (the URL for the book product page) and a headers dictionary as arguments and returns a dictionary with the following keys:\n",
    "    - `book_url`: The URL of the book product page \n",
    "    - `response`: The Response object of that page\n",
    "    - `soup`: The BeautifulSoup object created from the source code\n",
    "\n",
    "\n",
    "3. `scrape_book_range(page_range, filename, headers)`: This function takes a page range (`range` object), a filename for the a CSV file, and a headers dictionary as arguments and will use the other two functions to scrape the book information for every book found in the specified page range. This book information should be saved as separate rows in a CSV file (see if you can include the CSV file writing code in this function).\n",
    "\n",
    "Make sure to include proper documentation (docstring) for your code.\n",
    "\n",
    "**Before writing to CSV**, make the following changes to the book data:\n",
    "\n",
    "1. Convert `price_in_pounds` value to `float` type.\n",
    "2. Convert `avg_rating` to `int` type.\n",
    "3. Extract the number of available books from the `num_books_available` string and convert to `int` type."
   ]
  },
  {
   "cell_type": "code",
   "execution_count": null,
   "metadata": {},
   "outputs": [],
   "source": [
    "import requests\n",
    "from bs4 import BeautifulSoup as soup\n",
    "import csv\n",
    "import re\n",
    "\n",
    "headers = {'User-Agent': 'Mozilla/5.0 (Windows NT 10.0; Win64; x64) AppleWebKit/537.36 (KHTML, like Gecko) Chrome/88.0.4324.104 Safari/537.36'}\n",
    "\n",
    "def scrape_book_results_page(page_num, headers=headers):\n",
    "    \"\"\"scrape_book_results_page docstring\"\"\"\n",
    "    pass\n",
    "\n",
    "def scrape_book_product_page(book_url, headers=headers):\n",
    "    \"\"\"scrape_book_product_page docstring\"\"\"\n",
    "    pass\n",
    "\n",
    "def scrape_book_range(page_range, filename, headers=headers):\n",
    "    \"\"\"scrape_book_range docstring\"\"\"\n",
    "    pass"
   ]
  },
  {
   "cell_type": "markdown",
   "metadata": {},
   "source": [
    "## Problem 2\n",
    "Take the code you've written above and create a module called `books2scrape`. This is just a file called `books2scrape` with a `py` extension. Make sure the module is located in your homework notebook working directory. Once you've created this module, import it and try to run the final function again.\n",
    "\n",
    "What is the benefit of moving this code to a module? How does the functionality of a module compare to a class?"
   ]
  },
  {
   "cell_type": "code",
   "execution_count": null,
   "metadata": {},
   "outputs": [],
   "source": [
    "# Your code here"
   ]
  },
  {
   "cell_type": "markdown",
   "metadata": {},
   "source": [
    "### Written Answer"
   ]
  }
 ],
 "metadata": {
  "kernelspec": {
   "display_name": "Python 3",
   "language": "python",
   "name": "python3"
  },
  "language_info": {
   "codemirror_mode": {
    "name": "ipython",
    "version": 3
   },
   "file_extension": ".py",
   "mimetype": "text/x-python",
   "name": "python",
   "nbconvert_exporter": "python",
   "pygments_lexer": "ipython3",
   "version": "3.7.4"
  }
 },
 "nbformat": 4,
 "nbformat_minor": 2
}
