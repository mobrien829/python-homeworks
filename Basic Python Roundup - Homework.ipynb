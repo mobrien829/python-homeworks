{
 "cells": [
  {
   "cell_type": "markdown",
   "metadata": {},
   "source": [
    "## Problem 1\n",
    "Using the code from the Basic Python Roundup lecture notebook, create three functions:\n",
    "\n",
    "1. `scrape_book_results_page(page_num, headers)`: This function takes a page number and a headers dictionary as arguments and returns a dictionary with the following keys:\n",
    "    - `page_url`: The URL of the books results page\n",
    "    - `response`: The Response object of that page\n",
    "    - `soup`: The BeautifulSoup object created from the source code\n",
    "    - `book_urls`: A list of the URLs for each book on this page\n",
    "\n",
    "\n",
    "2. `scrape_book_product_page(book_product_url, headers)`: This function takes a book product URL (the URL for the book product page) and a headers dictionary as arguments and returns a dictionary with the following keys:\n",
    "    - `book_url`: The URL of the book product page \n",
    "    - `response`: The Response object of that page\n",
    "    - `soup`: The BeautifulSoup object created from the source code\n",
    "\n",
    "\n",
    "3. `scrape_book_range(page_range, filename, headers)`: This function takes a page range (`range` object), a filename for the a CSV file, and a headers dictionary as arguments and will use the other two functions to scrape the book information for every book found in the specified page range. This book information should be saved as separate rows in a CSV file (see if you can include the CSV file writing code in this function).\n",
    "\n",
    "Make sure to include proper documentation (docstring) for your code.\n",
    "\n",
    "**Before writing to CSV**, make the following changes to the book data:\n",
    "\n",
    "1. Convert `price_in_pounds` value to `float` type.\n",
    "2. Convert `avg_rating` to `int` type.\n",
    "3. Extract the number of available books from the `num_books_available` string and convert to `int` type."
   ]
  },
  {
   "cell_type": "code",
   "execution_count": 63,
   "metadata": {},
   "outputs": [],
   "source": [
    "import requests\n",
    "from bs4 import BeautifulSoup as soup\n",
    "import csv\n",
    "import re\n",
    "\n",
    "headers = {'User-Agent': 'Mozilla/5.0 (Windows NT 10.0; Win64; x64) AppleWebKit/537.36 (KHTML, like Gecko) Chrome/88.0.4324.104 Safari/537.36'}\n",
    "\n",
    "def scrape_book_results_page(page_num, headers=headers):\n",
    "    \"\"\"scrape_book_results_page scrapes a results page for individual books' urls\"\"\"\n",
    "    \n",
    "    results_page = f'https://books.toscrape.com/catalogue/page-{page_num}.html'\n",
    "    response = requests.get(results_page, headers)\n",
    "    text = soup(response.text, 'html.parser')\n",
    "    book_divs = text.find_all('div', attrs={'class': 'image_container'})\n",
    "    book_urls = [tag.find('a').get('href') for tag in book_divs]\n",
    "    complete_urls = [f'https://books.toscrape.com/catalogue/{end_url}' for end_url in book_urls]\n",
    "    \n",
    "    \n",
    "    return {\"page_url\": results_page, \"response\": response, \"soup\": soup, \"book_urls\": complete_urls}\n",
    "\n",
    "def scrape_book_product_page(book_url, headers=headers):\n",
    "    \"\"\"scrape_book_product_page scrapes each book's product page\"\"\"\n",
    "    response = requests.get(book_url, headers)\n",
    "    return {\n",
    "        \"book_url\": book_url,\n",
    "        \"response\": response,\n",
    "        \"soup\": soup\n",
    "    }\n",
    "\n",
    "def remaining_availability_converter(avail_str):\n",
    "    match = re.findall('[0-9+]', avail_str)\n",
    "    joined_ints = ''.join(match)\n",
    "    return int(joined_ints)\n",
    "\n",
    "def rating_helper(rating_str):\n",
    "    \"\"\"takes a rating string and converts to integer\"\"\"\n",
    "    if rating_str == \"Zero\":\n",
    "        return 0\n",
    "    elif rating_str == \"One\":\n",
    "        return 1\n",
    "    elif rating_str == \"Two\":\n",
    "        return 2\n",
    "    elif rating_str == \"Three\":\n",
    "        return 3\n",
    "    elif rating_str == \"Four\":\n",
    "        return 4\n",
    "    elif rating_str == \"Five\":\n",
    "        return 5\n",
    "\n",
    "def scrape_book_range(page_range, filename, headers=headers):\n",
    "    \"\"\"scrape_book_range uses scrape_book_product_range and scrape_book_results_page to scrape over a given page_range. page_range must start at 1\"\"\"\n",
    "    book_page_urls = []\n",
    "    book_list = []\n",
    "    [book_page_urls.extend(scrape_book_results_page(i)[\"book_urls\"])for i in page_range]\n",
    "    for url in book_page_urls:\n",
    "        book_dict = {}\n",
    "        book = soup(scrape_book_product_page(url)[\"response\"].text, 'html.parser')\n",
    "#         find properties and store\n",
    "        title = book.find('div', attrs = {'class': 'col-sm-6 product_main'}).find('h1').string\n",
    "        price_in_pounds = book.find('p', attrs = {'class':'price_color'}).string[2:]\n",
    "        avg_rating_tag = book.find(lambda tag: 'star-rating' in tag.get('class') if tag.get('class') else False)\n",
    "        avg_rating = avg_rating_tag.get('class')[1]\n",
    "        li_tag = book.find('ul', attrs={'class':'breadcrumb'}).find_all('li')[2]\n",
    "        genre = li_tag.find('a').string\n",
    "        tr_tag = book.find('table', attrs = {'class':'table table-striped'}).find_all('tr')[0]\n",
    "        upc = tr_tag.find('td').string\n",
    "        num_books_avail = book.find('p', attrs = {'class':'instock availability'}).get_text()\n",
    "        book_dict['title'] = title\n",
    "        book_dict['price_in_pounds'] = float(price_in_pounds)\n",
    "        book_dict['avg_rating'] = rating_helper(avg_rating)\n",
    "        book_dict['genre'] = genre\n",
    "        book_dict['upc'] = upc\n",
    "        book_dict['num_books_available'] = remaining_availability_converter(num_books_avail)\n",
    "        book_list.append(book_dict)\n",
    "        \n",
    "    with open (filename, 'w', encoding = 'utf-8', newline='') as csvfile:\n",
    "        book_writer = csv.writer(csvfile)\n",
    "        table_headers = ['title', 'price_in_pounds', 'avg_rating', 'genre', 'upc', 'num_books_available']\n",
    "        book_writer.writerow(table_headers)\n",
    "        for book_dict in book_list:\n",
    "            book_writer.writerow(book_dict.values())\n",
    "        \n",
    "        \n",
    "scrape_book_range(range(1, 3), 'results.csv')"
   ]
  },
  {
   "cell_type": "code",
   "execution_count": 45,
   "metadata": {},
   "outputs": [
    {
     "data": {
      "text/plain": [
       "False"
      ]
     },
     "execution_count": 45,
     "metadata": {},
     "output_type": "execute_result"
    }
   ],
   "source": []
  },
  {
   "cell_type": "markdown",
   "metadata": {},
   "source": [
    "## Problem 2\n",
    "Take the code you've written above and create a module called `books2scrape`. This is just a file called `books2scrape` with a `py` extension. Make sure the module is located in your homework notebook working directory. Once you've created this module, import it and try to run the final function again.\n",
    "\n",
    "What is the benefit of moving this code to a module? How does the functionality of a module compare to a class?"
   ]
  },
  {
   "cell_type": "code",
   "execution_count": 67,
   "metadata": {},
   "outputs": [],
   "source": [
    "# Your code here\n",
    "import books2scrape\n",
    "\n",
    "books2scrape.scrape_book_range(range(1, 5), 'results.csv')"
   ]
  },
  {
   "cell_type": "markdown",
   "metadata": {},
   "source": [
    "# Written Answer\n",
    "\n",
    "don't have to see all the ugly work on how it works - just call the methods we need"
   ]
  }
 ],
 "metadata": {
  "kernelspec": {
   "display_name": "Python 3 (ipykernel)",
   "language": "python",
   "name": "python3"
  },
  "language_info": {
   "codemirror_mode": {
    "name": "ipython",
    "version": 3
   },
   "file_extension": ".py",
   "mimetype": "text/x-python",
   "name": "python",
   "nbconvert_exporter": "python",
   "pygments_lexer": "ipython3",
   "version": "3.9.7"
  }
 },
 "nbformat": 4,
 "nbformat_minor": 2
}
